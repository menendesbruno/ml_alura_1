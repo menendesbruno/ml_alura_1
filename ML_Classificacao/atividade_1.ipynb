{
 "cells": [
  {
   "cell_type": "code",
   "execution_count": 1,
   "id": "a11d3c10",
   "metadata": {},
   "outputs": [],
   "source": [
    "porco1 = [1, 1, 0]\n",
    "porco2 = [1, 1, 0]\n",
    "porco3 = [1, 1, 0]\n",
    "cachorro1 = [1, 1, 1]\n",
    "cachorro2 = [0, 1, 1]\n",
    "cachorro3 = [0, 1, 1]\n"
   ]
  },
  {
   "cell_type": "code",
   "execution_count": 2,
   "id": "44f37ce5",
   "metadata": {},
   "outputs": [],
   "source": [
    "dados = [porco1, porco2, porco3, cachorro1, cachorro2, cachorro3]"
   ]
  },
  {
   "cell_type": "code",
   "execution_count": 4,
   "id": "9f2622b8",
   "metadata": {},
   "outputs": [],
   "source": [
    "marcacoes = [1, 1, 1, -1, -1, -1]"
   ]
  },
  {
   "cell_type": "code",
   "execution_count": 14,
   "id": "376bb775",
   "metadata": {},
   "outputs": [],
   "source": [
    "misterioso = [1, 1, 1]\n",
    "misterioso2 = [1, 0, 0]"
   ]
  },
  {
   "cell_type": "code",
   "execution_count": 6,
   "id": "cc7bb124",
   "metadata": {},
   "outputs": [],
   "source": [
    "from sklearn.naive_bayes import MultinomialNB"
   ]
  },
  {
   "cell_type": "code",
   "execution_count": 12,
   "id": "6992147e",
   "metadata": {},
   "outputs": [
    {
     "name": "stdout",
     "output_type": "stream",
     "text": [
      "[-1]\n"
     ]
    }
   ],
   "source": [
    "modelo = MultinomialNB()\n",
    "modelo.fit(dados, marcacoes)\n",
    "print(modelo.predict([misterioso]))"
   ]
  },
  {
   "cell_type": "code",
   "execution_count": 15,
   "id": "eecebed9",
   "metadata": {},
   "outputs": [
    {
     "name": "stdout",
     "output_type": "stream",
     "text": [
      "[1]\n"
     ]
    }
   ],
   "source": [
    "print(modelo.predict([misterioso2]))"
   ]
  },
  {
   "cell_type": "code",
   "execution_count": 16,
   "id": "77d73660",
   "metadata": {},
   "outputs": [
    {
     "name": "stdout",
     "output_type": "stream",
     "text": [
      "[-1  1]\n"
     ]
    }
   ],
   "source": [
    "teste = [misterioso, misterioso2]\n",
    "print(modelo.predict(teste))"
   ]
  },
  {
   "cell_type": "code",
   "execution_count": null,
   "id": "d69aa850",
   "metadata": {},
   "outputs": [],
   "source": []
  }
 ],
 "metadata": {
  "kernelspec": {
   "display_name": "Python 3 (ipykernel)",
   "language": "python",
   "name": "python3"
  },
  "language_info": {
   "codemirror_mode": {
    "name": "ipython",
    "version": 3
   },
   "file_extension": ".py",
   "mimetype": "text/x-python",
   "name": "python",
   "nbconvert_exporter": "python",
   "pygments_lexer": "ipython3",
   "version": "3.9.7"
  }
 },
 "nbformat": 4,
 "nbformat_minor": 5
}
